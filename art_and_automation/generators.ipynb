{
 "cells": [
  {
   "cell_type": "code",
   "execution_count": 1,
   "metadata": {},
   "outputs": [],
   "source": [
    "import pandas as pd\n",
    "\n",
    "from generator_helpers.generators import gen_floor, gen_crop\n"
   ]
  },
  {
   "cell_type": "markdown",
   "metadata": {},
   "source": [
    "# Floors"
   ]
  },
  {
   "cell_type": "code",
   "execution_count": null,
   "metadata": {},
   "outputs": [],
   "source": [
    "tiles = [\n",
    "    'black_dot_tile',\n",
    "    'white_dot_tile',\n",
    "    'circle_black_tile',\n",
    "    'circle_white_tile',\n",
    "    'diamond_black_tile',\n",
    "    'diamond_white_tile',\n",
    "    'diamond_black_and_yellow_tile',\n",
    "    'diamond_pink_tile'\n",
    "]"
   ]
  },
  {
   "cell_type": "code",
   "execution_count": null,
   "metadata": {},
   "outputs": [],
   "source": [
    "gen_floor(tiles)"
   ]
  },
  {
   "cell_type": "markdown",
   "metadata": {},
   "source": [
    "# Crops"
   ]
  },
  {
   "cell_type": "code",
   "execution_count": 2,
   "metadata": {},
   "outputs": [],
   "source": [
    "crops = ['Asparagus', 'Parsnip']"
   ]
  },
  {
   "cell_type": "code",
   "execution_count": 3,
   "metadata": {},
   "outputs": [
    {
     "name": "stdout",
     "output_type": "stream",
     "text": [
      "\n",
      "              MOD BLOCKS:\n",
      "            ================= \n",
      "          \n",
      "\n",
      "    public static final RegistryObject<Block> ASPARAGUS_CROP = BLOCKS.register(\"asparagus_crop\",\n",
      "            () -> new AsparagusCropBlock(BlockBehaviour.Properties.copy(Blocks.WHEAT).noOcclusion().noCollission()));  \n",
      "        \n",
      "\n",
      "    public static final RegistryObject<Block> PARSNIP_CROP = BLOCKS.register(\"parsnip_crop\",\n",
      "            () -> new ParsnipCropBlock(BlockBehaviour.Properties.copy(Blocks.WHEAT).noOcclusion().noCollission()));  \n",
      "        \n",
      "\n",
      "              LOOT TABLES:\n",
      "            ================= \n",
      "          \n",
      "\n",
      "//      ASPARAGUS CROP:\n",
      "        LootItemCondition.Builder lootitemcondition$builder_asparagus = LootItemBlockStatePropertyCondition\n",
      "                .hasBlockStateProperties(ModBlocks.ASPARAGUS_CROP.get())\n",
      "                .setProperties(StatePropertiesPredicate.Builder.properties().hasProperty(AsparagusCropBlock.AGE, 5));\n",
      "\n",
      "        this.add(ModBlocks.ASPARAGUS_CROP.get(), createCropDrops(ModBlocks.ASPARAGUS_CROP.get(), ModItems.ASPARAGUS.get(),\n",
      "                ModItems.ASPARAGUS_SEEDS.get(), lootitemcondition$builder_barley));\n",
      "        \n",
      "\n",
      "//      PARSNIP CROP:\n",
      "        LootItemCondition.Builder lootitemcondition$builder_parsnip = LootItemBlockStatePropertyCondition\n",
      "                .hasBlockStateProperties(ModBlocks.PARSNIP_CROP.get())\n",
      "                .setProperties(StatePropertiesPredicate.Builder.properties().hasProperty(ParsnipCropBlock.AGE, 5));\n",
      "\n",
      "        this.add(ModBlocks.PARSNIP_CROP.get(), createCropDrops(ModBlocks.PARSNIP_CROP.get(), ModItems.PARSNIP.get(),\n",
      "                ModItems.PARSNIP_SEEDS.get(), lootitemcondition$builder_barley));\n",
      "        \n",
      "\n",
      "              STATE PROVIDER:\n",
      "            ================= \n",
      "          \n",
      "\n",
      "//  ASPARAGUS\n",
      "    public void makeAsparagusCrop(CropBlock block, String modelName, String textureName) {\n",
      "        Function<BlockState, ConfiguredModel[]> function = state -> asparagusStates(state, block, modelName, textureName);\n",
      "\n",
      "        getVariantBuilder(block).forAllStates(function);\n",
      "    }\n",
      "    private ConfiguredModel[] asparagusStates(BlockState state, CropBlock block, String modelName, String textureName) {\n",
      "        ConfiguredModel[] models = new ConfiguredModel[1];\n",
      "        models[0] = new ConfiguredModel(models().crop(modelName + state.getValue(((AsparagusCropBlock) block).getAgeProperty()),\n",
      "                new ResourceLocation(instrumentaBrundisii.MOD_ID, \"block/\" + textureName + state.getValue(((AsparagusCropBlock) block).getAgeProperty()))).renderType(\"cutout\"));\n",
      "        return models;\n",
      "    }\n",
      "        \n",
      "\n",
      "//  PARSNIP\n",
      "    public void makeParsnipCrop(CropBlock block, String modelName, String textureName) {\n",
      "        Function<BlockState, ConfiguredModel[]> function = state -> parsnipStates(state, block, modelName, textureName);\n",
      "\n",
      "        getVariantBuilder(block).forAllStates(function);\n",
      "    }\n",
      "    private ConfiguredModel[] parsnipStates(BlockState state, CropBlock block, String modelName, String textureName) {\n",
      "        ConfiguredModel[] models = new ConfiguredModel[1];\n",
      "        models[0] = new ConfiguredModel(models().crop(modelName + state.getValue(((ParsnipCropBlock) block).getAgeProperty()),\n",
      "                new ResourceLocation(instrumentaBrundisii.MOD_ID, \"block/\" + textureName + state.getValue(((ParsnipCropBlock) block).getAgeProperty()))).renderType(\"cutout\"));\n",
      "        return models;\n",
      "    }\n",
      "        \n",
      "\n",
      "              MODEL PROVIDER:\n",
      "            ================= \n",
      "          \n",
      "\n",
      "        simpleItem(ModItems.Asparagus_SEEDS);\n",
      "        simpleItem(ModItems.Asparagus);\n",
      "        \n",
      "\n",
      "        simpleItem(ModItems.Parsnip_SEEDS);\n",
      "        simpleItem(ModItems.Parsnip);\n",
      "        \n",
      "\n",
      "              MOD TAB:\n",
      "            ================= \n",
      "          \n",
      "\n",
      "//                      Asparagus:\n",
      "                        pOutput.accept(ModItems.Asparagus.get());\n",
      "                        pOutput.accept(ModItems.Asparagus_SEEDS.get());\n",
      "        \n",
      "\n",
      "//                      Parsnip:\n",
      "                        pOutput.accept(ModItems.Parsnip.get());\n",
      "                        pOutput.accept(ModItems.Parsnip_SEEDS.get());\n",
      "        \n",
      "\n",
      "              MOD ITEMS:\n",
      "            ================= \n",
      "          \n",
      "\n",
      "    public static final RegistryObject<Item> Asparagus_SEEDS = ITEMS.register(\"asparagus_seeds\",\n",
      "            () -> new ItemNameBlockItem(ModBlocks.Asparagus_CROP.get(), new Item.Properties()));\n",
      "    public static final RegistryObject<Item> Asparagus = ITEMS.register(\"asparagus\",\n",
      "            () -> new Item(new Item.Properties().stacksTo(64)));\n",
      "        \n",
      "\n",
      "    public static final RegistryObject<Item> Parsnip_SEEDS = ITEMS.register(\"parsnip_seeds\",\n",
      "            () -> new ItemNameBlockItem(ModBlocks.Parsnip_CROP.get(), new Item.Properties()));\n",
      "    public static final RegistryObject<Item> Parsnip = ITEMS.register(\"parsnip\",\n",
      "            () -> new Item(new Item.Properties().stacksTo(64)));\n",
      "        \n",
      "\n",
      "              LANG:\n",
      "            ================= \n",
      "          \n",
      "\n",
      "  \"item.instrumenta_brundisii.asparagus\": \"Asparagus\",\n",
      "  \"item.instrumenta_brundisii.asparagus_seeds\": \"Asparagus Seeds\",\n",
      "        \n",
      "\n",
      "  \"item.instrumenta_brundisii.parsnip\": \"Parsnip\",\n",
      "  \"item.instrumenta_brundisii.parsnip_seeds\": \"Parsnip Seeds\",\n",
      "        \n"
     ]
    }
   ],
   "source": [
    "gen_crop(crops)"
   ]
  },
  {
   "cell_type": "code",
   "execution_count": null,
   "metadata": {},
   "outputs": [],
   "source": []
  }
 ],
 "metadata": {
  "kernelspec": {
   "display_name": ".venv",
   "language": "python",
   "name": "python3"
  },
  "language_info": {
   "codemirror_mode": {
    "name": "ipython",
    "version": 3
   },
   "file_extension": ".py",
   "mimetype": "text/x-python",
   "name": "python",
   "nbconvert_exporter": "python",
   "pygments_lexer": "ipython3",
   "version": "3.9.13"
  }
 },
 "nbformat": 4,
 "nbformat_minor": 2
}
